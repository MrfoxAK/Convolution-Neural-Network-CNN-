{
 "cells": [
  {
   "cell_type": "code",
   "execution_count": 36,
   "metadata": {},
   "outputs": [
    {
     "name": "stdout",
     "output_type": "stream",
     "text": [
      "Found 218 images belonging to 2 classes.\n",
      "Found 218 images belonging to 2 classes.\n"
     ]
    },
    {
     "name": "stdout",
     "output_type": "stream",
     "text": [
      "Epoch 1/10\n",
      "7/7 [==============================] - 5s 622ms/step - loss: 0.6644 - accuracy: 0.5688 - val_loss: 0.6208 - val_accuracy: 0.5275\n",
      "Epoch 2/10\n",
      "7/7 [==============================] - 4s 555ms/step - loss: 0.4528 - accuracy: 0.8119 - val_loss: 0.0275 - val_accuracy: 1.0000\n",
      "Epoch 3/10\n",
      "7/7 [==============================] - 4s 565ms/step - loss: 0.2785 - accuracy: 0.8624 - val_loss: 0.1281 - val_accuracy: 0.9725\n",
      "Epoch 4/10\n",
      "7/7 [==============================] - 4s 593ms/step - loss: 0.0726 - accuracy: 0.9908 - val_loss: 0.0340 - val_accuracy: 0.9862\n",
      "Epoch 5/10\n",
      "7/7 [==============================] - 4s 560ms/step - loss: 0.0361 - accuracy: 0.9862 - val_loss: 0.0312 - val_accuracy: 0.9817\n",
      "Epoch 6/10\n",
      "7/7 [==============================] - 4s 654ms/step - loss: 0.0860 - accuracy: 0.9679 - val_loss: 0.1050 - val_accuracy: 0.9725\n",
      "Epoch 7/10\n",
      "7/7 [==============================] - 5s 717ms/step - loss: 0.0936 - accuracy: 0.9587 - val_loss: 0.0163 - val_accuracy: 1.0000\n",
      "Epoch 8/10\n",
      "7/7 [==============================] - 4s 655ms/step - loss: 0.0429 - accuracy: 0.9862 - val_loss: 0.0096 - val_accuracy: 1.0000\n",
      "Epoch 9/10\n",
      "7/7 [==============================] - 4s 568ms/step - loss: 0.0355 - accuracy: 0.9908 - val_loss: 0.0024 - val_accuracy: 1.0000\n",
      "Epoch 10/10\n",
      "7/7 [==============================] - 4s 533ms/step - loss: 0.0120 - accuracy: 0.9954 - val_loss: 3.5091e-04 - val_accuracy: 1.0000\n"
     ]
    }
   ],
   "source": [
    "import numpy as np\n",
    "import cv2\n",
    "from keras.models import Sequential\n",
    "from keras.layers import Conv2D, MaxPooling2D, Flatten, Dense\n",
    "from keras.preprocessing.image import ImageDataGenerator\n",
    "\n",
    "# Constants\n",
    "num_classes = 2  # Number of classes (faces and non-faces)\n",
    "image_size = 64  # Size of input images (assumes square images)\n",
    "\n",
    "# Load training and testing data\n",
    "train_data = ImageDataGenerator(rescale=1.0 / 255, shear_range=0.2, zoom_range=0.2, horizontal_flip=True)\n",
    "test_data = ImageDataGenerator(rescale=1.0 / 255)\n",
    "\n",
    "train_set = train_data.flow_from_directory(\"D:\\\\CU\\\\face_rec\\\\Dataset\\\\Train\", target_size=(image_size, image_size), batch_size=32,\n",
    "                                           class_mode='categorical')\n",
    "test_set = test_data.flow_from_directory(\"D:\\\\CU\\\\face_rec\\\\Dataset\\\\Test\", target_size=(image_size, image_size), batch_size=32,\n",
    "                                         class_mode='categorical')\n",
    "\n",
    "# Build CNN model\n",
    "model = Sequential()\n",
    "\n",
    "model.add(Conv2D(64, (3, 3), input_shape=(image_size, image_size, 3), activation='relu'))\n",
    "model.add(MaxPooling2D(pool_size=(2, 2)))\n",
    "model.add(Conv2D(64, (3, 3), activation='relu'))\n",
    "model.add(MaxPooling2D(pool_size=(2, 2)))\n",
    "\n",
    "model.add(Conv2D(128, kernel_size=3, activation='relu'))\n",
    "model.add(Conv2D(128, kernel_size=3, activation='relu'))\n",
    "model.add(Conv2D(128, kernel_size=3, activation='relu'))\n",
    "model.add(MaxPooling2D(pool_size=(2, 2)))\n",
    "\n",
    "model.add(Conv2D(256, kernel_size=3, activation='relu'))\n",
    "\n",
    "model.add(Flatten())\n",
    "\n",
    "model.add(Dense(128, activation='relu'))\n",
    "model.add(Dense(num_classes, activation='softmax'))\n",
    "\n",
    "# Compile the model\n",
    "model.compile(optimizer='adam', loss='categorical_crossentropy', metrics=['accuracy'])\n",
    "\n",
    "# Train the model\n",
    "model.fit(train_set, epochs=10, validation_data=test_set)\n",
    "\n",
    "# Save the model\n",
    "model.save('face_recognition_model.h5')\n",
    "\n"
   ]
  },
  {
   "cell_type": "code",
   "execution_count": 48,
   "metadata": {},
   "outputs": [
    {
     "name": "stdout",
     "output_type": "stream",
     "text": [
      "1/1 [==============================] - 0s 74ms/step\n",
      "[[0.9778016  0.02219838]]\n",
      "0\n",
      "Predicted class: Akash\n"
     ]
    }
   ],
   "source": [
    "import numpy as np\n",
    "import cv2\n",
    "from keras.models import load_model\n",
    "model = load_model('face_recognition_model.h5')\n",
    "# Load and preprocess the input image\n",
    "image_path = \"D:\\\\CU\\\\face_rec\\\\Dataset\\\\Test\\\\Akash\\\\a55.png\"\n",
    "image = cv2.imread(image_path)\n",
    "image = cv2.resize(image, (64, 64))  # Resize the image to match the input size of the model\n",
    "image = image.astype('float32') / 255  # Normalize the image\n",
    "image = np.expand_dims(image, axis=0)  # Add an extra dimension to match the model's input shape\n",
    "\n",
    "# Perform the prediction\n",
    "prediction = model.predict(image)\n",
    "print(prediction)\n",
    "class_index = np.argmax(prediction)\n",
    "print(class_index)\n",
    "class_label = train_set.class_indices  # Use the class indices from the training set\n",
    "\n",
    "# Print the predicted class label\n",
    "for label, index in class_label.items():\n",
    "    if index == class_index:\n",
    "        print(\"Predicted class:\", label)\n",
    "        break\n"
   ]
  },
  {
   "cell_type": "code",
   "execution_count": 50,
   "metadata": {},
   "outputs": [],
   "source": [
    "import os\n",
    "import cv2\n",
    "import numpy as np\n",
    "from tensorflow import keras\n",
    "\n",
    "# Load the trained model\n",
    "model = keras.models.load_model(\"D:\\\\CU\\\\face_rec\\\\face_recognition_model.h5\")\n",
    "\n",
    "# Directory containing the images to test\n",
    "image_directory = \"D:\\\\CU\\\\face_rec\\\\Dataset\\\\Test\"\n",
    "\n",
    "# Iterate over all files in the directory\n",
    "for filename in os.listdir(image_directory):\n",
    "    if filename.endswith('.jpg') or filename.endswith('.png'):\n",
    "        # Read and preprocess the image\n",
    "        image_path = os.path.join(image_directory, filename)\n",
    "        image = cv2.imread(image_path)\n",
    "        image = cv2.cvtColor(image, cv2.COLOR_BGR2RGB)\n",
    "        image = cv2.resize(image, (224, 224))  # Resize if needed\n",
    "        image = image / 255.0  # Normalize pixel values\n",
    "        image = np.expand_dims(image, axis=0)  # Add batch dimension\n",
    "\n",
    "        # Perform inference\n",
    "        predictions = model.predict(image)\n",
    "        class_index = np.argmax(predictions[0])\n",
    "        class_name = 'unknown'  # Replace with your own class names\n",
    "        if class_index == 0:\n",
    "            class_name = 'class_a'\n",
    "        elif class_index == 1:\n",
    "            class_name = 'class_b'\n",
    "        # Add more elif statements for additional classes\n",
    "\n",
    "        print(f\"Image: {filename} - Predicted class: {class_name}\")\n"
   ]
  }
 ],
 "metadata": {
  "kernelspec": {
   "display_name": "Python 3",
   "language": "python",
   "name": "python3"
  },
  "language_info": {
   "codemirror_mode": {
    "name": "ipython",
    "version": 3
   },
   "file_extension": ".py",
   "mimetype": "text/x-python",
   "name": "python",
   "nbconvert_exporter": "python",
   "pygments_lexer": "ipython3",
   "version": "3.10.8"
  },
  "orig_nbformat": 4
 },
 "nbformat": 4,
 "nbformat_minor": 2
}
